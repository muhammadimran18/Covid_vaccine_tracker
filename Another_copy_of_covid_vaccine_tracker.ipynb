{
  "nbformat": 4,
  "nbformat_minor": 0,
  "metadata": {
    "colab": {
      "provenance": []
    },
    "kernelspec": {
      "name": "python3",
      "display_name": "Python 3"
    },
    "language_info": {
      "name": "python"
    }
  },
  "cells": [
    {
      "cell_type": "code",
      "execution_count": null,
      "metadata": {
        "colab": {
          "base_uri": "https://localhost:8080/",
          "height": 140
        },
        "id": "j8j_EMyOHzxs",
        "outputId": "a63e2560-15f4-4dd1-c663-9f2b2ae9ce8a"
      },
      "outputs": [
        {
          "output_type": "error",
          "ename": "SyntaxError",
          "evalue": "ignored",
          "traceback": [
            "\u001b[0;36m  File \u001b[0;32m\"<ipython-input-19-f34659dd4cf7>\"\u001b[0;36m, line \u001b[0;32m3\u001b[0m\n\u001b[0;31m    url =\"https://api.covid19api.com/vaccines”\u001b[0m\n\u001b[0m         ^\u001b[0m\n\u001b[0;31mSyntaxError\u001b[0m\u001b[0;31m:\u001b[0m unterminated string literal (detected at line 3)\n"
          ]
        }
      ],
      "source": [
        "def get_vaccine_data():\n",
        "\n",
        "      url =\"https://api.covid19api.com/vaccines”\n",
        "\n",
        "      response = requests.get(url)\n",
        "       if response.status_code == 200:\n",
        "         data = response.json()\n",
        "         return data\n",
        "\n",
        "      else:\n",
        "\n",
        "       return None\n",
        "\n",
        "import matplotlib.pyplot as plt\n",
        "\n",
        " def plot_vaccine_data(data):\n",
        "     dates = []\n",
        "     total_vaccinations = []\n",
        "\n",
        "        for entry in data:\n",
        "\n",
        "        dates.append(entry['Date'])\n",
        "        total_vaccinations.append(entry['Total'])\n",
        "\n",
        "          plt.figure(figsize=(10, 6))\n",
        "          plt.plot(dates, total_vaccinations, marker='o', linestyle='-', color='b')\n",
        "          plt.title('COVID-19 Vaccine Tracker')\n",
        "          plt.xlabel('Date')\n",
        "          plt.ylabel('Total Vaccinations')\n",
        "          plt.xticks(rotation=45)\n",
        "          plt.tight_layout()\n",
        "          plt.show()\n",
        "\n",
        "             if __name__ ==\"__main__\"\n",
        "\n",
        "     vaccine_data = get_vaccine_data()\n",
        "     if vaccine_data:\n",
        "\n",
        "        plot_vaccine_data(vaccine_data)\n",
        "\n",
        "     else:\n",
        "\n",
        "     print(\"Failed to fetch data.\")"
      ]
    }
  ]
}