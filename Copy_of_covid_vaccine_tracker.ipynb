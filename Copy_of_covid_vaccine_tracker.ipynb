{
  "nbformat": 4,
  "nbformat_minor": 0,
  "metadata": {
    "colab": {
      "provenance": []
    },
    "kernelspec": {
      "name": "python3",
      "display_name": "Python 3"
    },
    "language_info": {
      "name": "python"
    }
  },
  "cells": [
    {
      "cell_type": "code",
      "source": [
        "covid vaccine tracker\n",
        "def get_vaccine_data():\n",
        "\n",
        "      url =\"https://api.covid19api.com/vaccines”\n",
        "\n",
        "      response = requests.get(url)\n",
        "       if response.status_code == 200:\n",
        "         data = response.json()\n",
        "         return data\n",
        "\n",
        "      else:\n",
        "\n",
        "       return None\n",
        "\n",
        "import matplotlib.pyplot as plt\n",
        "\n",
        " def plot_vaccine_data(data):\n",
        "     dates = []\n",
        "     total_vaccinations = []\n",
        "\n",
        "        for entry in data:\n",
        "\n",
        "        dates.append(entry['Date'])\n",
        "        total_vaccinations.append(entry['Total'])\n",
        "\n",
        "          plt.figure(figsize=(10, 6))\n",
        "          plt.plot(dates, total_vaccinations, marker='o', linestyle='-', color='b')\n",
        "          plt.title('COVID-19 Vaccine Tracker')\n",
        "          plt.xlabel('Date')\n",
        "          plt.ylabel('Total Vaccinations')\n",
        "          plt.xticks(rotation=45)\n",
        "          plt.tight_layout()\n",
        "          plt.show()\n",
        "\n",
        "             if __name__ ==\"__main__\"\n",
        "\n",
        "     vaccine_data = get_vaccine_data()\n",
        "     if vaccine_data:\n",
        "\n",
        "        plot_vaccine_data(vaccine_data)\n",
        "\n",
        "     else:\n",
        "\n",
        "     print(\"Failed to fetch data.\")"
      ],
      "metadata": {
        "id": "RGQRvqciMXTb"
      },
      "execution_count": null,
      "outputs": []
    }
  ]
}